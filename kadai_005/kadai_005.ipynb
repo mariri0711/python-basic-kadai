{
  "nbformat": 4,
  "nbformat_minor": 0,
  "metadata": {
    "colab": {
      "provenance": []
    },
    "kernelspec": {
      "name": "python3",
      "display_name": "Python 3"
    },
    "language_info": {
      "name": "python"
    }
  },
  "cells": [
    {
      "cell_type": "code",
      "execution_count": 2,
      "metadata": {
        "colab": {
          "base_uri": "https://localhost:8080/"
        },
        "id": "r2-c0DV44DLt",
        "outputId": "69f9bb67-5543-438c-84f3-44d4a286ae3a"
      },
      "outputs": [
        {
          "output_type": "stream",
          "name": "stdout",
          "text": [
            "75.0cm²\n"
          ]
        }
      ],
      "source": [
        "# 台形の辺と高さの値\n",
        "top_side = 10 # 上辺(cm)\n",
        "bottom_side = 20 # 下辺(cm)\n",
        "height = 5 # 高さ(cm)\n",
        "\n",
        "# 台形の面積の計算\n",
        "area = (top_side + bottom_side) * height / 2\n",
        "\n",
        "# 結果の出力\n",
        "print(f\"{area}cm²\")"
      ]
    },
    {
      "cell_type": "code",
      "source": [],
      "metadata": {
        "id": "EBtSZNmn4e2J"
      },
      "execution_count": null,
      "outputs": []
    }
  ]
}