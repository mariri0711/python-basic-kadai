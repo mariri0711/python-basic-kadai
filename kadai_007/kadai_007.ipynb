{
  "nbformat": 4,
  "nbformat_minor": 0,
  "metadata": {
    "colab": {
      "provenance": []
    },
    "kernelspec": {
      "name": "python3",
      "display_name": "Python 3"
    },
    "language_info": {
      "name": "python"
    }
  },
  "cells": [
    {
      "cell_type": "code",
      "execution_count": 6,
      "metadata": {
        "colab": {
          "base_uri": "https://localhost:8080/"
        },
        "id": "hKuSrCZDr96v",
        "outputId": "e3bcb412-35ed-4a87-b83b-19f336401d86"
      },
      "outputs": [
        {
          "output_type": "stream",
          "name": "stdout",
          "text": [
            "水曜日は晴れです\n"
          ]
        }
      ],
      "source": [
        "# 「array」という名前のリスト\n",
        "array = [\"月曜日は晴れです\",\t\"火曜日は雨です\",\t\"水曜日は晴れです\",\t\"木曜日は晴れです\",\t\"金曜日は曇りです\",\t\"土曜日は曇りのち雨です\",\t\"日曜日は雷雨です\"]\n",
        "\n",
        "print(array[2])"
      ]
    },
    {
      "cell_type": "code",
      "source": [
        "# 「dictionary」という名前のディクショナリ\n",
        "dictionary = {\"mon\" :\t\"晴れ\",\"tue\" :\t\"雨\",\"wed\"\t:\"晴れ\",\"thu\"\t:\"晴れ\",\"fri\"\t:\"曇り\",\"sat\"\t:\"曇りのち雨\",\"sun\" :\t\"雷雨\"}\n",
        "\n",
        "print(dictionary[\"wed\"])"
      ],
      "metadata": {
        "colab": {
          "base_uri": "https://localhost:8080/"
        },
        "id": "PUoQlN8isay7",
        "outputId": "78308a9e-1446-4868-a958-9381d09888f8"
      },
      "execution_count": 7,
      "outputs": [
        {
          "output_type": "stream",
          "name": "stdout",
          "text": [
            "晴れ\n"
          ]
        }
      ]
    },
    {
      "cell_type": "code",
      "source": [],
      "metadata": {
        "id": "49SjWHOrtdVB"
      },
      "execution_count": null,
      "outputs": []
    }
  ]
}