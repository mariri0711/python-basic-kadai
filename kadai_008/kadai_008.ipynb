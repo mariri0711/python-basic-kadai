{
  "nbformat": 4,
  "nbformat_minor": 0,
  "metadata": {
    "colab": {
      "provenance": []
    },
    "kernelspec": {
      "name": "python3",
      "display_name": "Python 3"
    },
    "language_info": {
      "name": "python"
    }
  },
  "cells": [
    {
      "cell_type": "code",
      "execution_count": 46,
      "metadata": {
        "colab": {
          "base_uri": "https://localhost:8080/"
        },
        "id": "1zHV3ZPc1H4p",
        "outputId": "ccd25b2d-16e8-4d83-c603-d331fbc0ba20"
      },
      "outputs": [
        {
          "output_type": "stream",
          "name": "stdout",
          "text": [
            "20\n",
            "Buzz\n"
          ]
        }
      ],
      "source": [
        "import random\n",
        "\n",
        "# 1-100までの整数をランダムに代入する\n",
        "var = random.randint(1, 100)\n",
        "\n",
        "# 代入する数値を表示\n",
        "print(var)\n",
        "\n",
        "# 変数varが、3の倍数と5の倍数の両方に該当する場合は「FizzBuzz」を出力\n",
        "if var % 15 ==0 :\n",
        "  print(\"FizzBuzz\")\n",
        "\n",
        "# 変数varが、3の倍数の場合は「Fizz」を出力\n",
        "elif var % 3 == 0 :\n",
        " print(\"Fizz\")\n",
        "\n",
        "# 変数varが、5の倍数の場合は「Buzz」を出力\n",
        "elif var % 5 == 0 :\n",
        "  print(\"Buzz\")\n",
        "\n",
        "# 上記のどの場合にも該当しない場合は、変数varの値を出力\n",
        "else :\n",
        "  print(var)\n"
      ]
    }
  ]
}