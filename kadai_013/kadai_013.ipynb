{
  "nbformat": 4,
  "nbformat_minor": 0,
  "metadata": {
    "colab": {
      "provenance": []
    },
    "kernelspec": {
      "name": "python3",
      "display_name": "Python 3"
    },
    "language_info": {
      "name": "python"
    }
  },
  "cells": [
    {
      "cell_type": "code",
      "execution_count": 2,
      "metadata": {
        "colab": {
          "base_uri": "https://localhost:8080/"
        },
        "id": "75cgHbhOFdQU",
        "outputId": "311ed59a-e911-4f92-d563-12c87d9bc01a"
      },
      "outputs": [
        {
          "output_type": "stream",
          "name": "stdout",
          "text": [
            "消費税込みの価格は 1100.0 円です。\n"
          ]
        }
      ],
      "source": [
        "def calculate_price_with_tax(price:int, tax=0.10)->int:\n",
        "   # 消費税を加えた価格を計算\n",
        "    total_price = price + (price * tax)\n",
        "    return total_price\n",
        "\n",
        "# 商品の価格を1000円、消費税率を10%（デフォルト値）で計算\n",
        "price = 1000\n",
        "total_price = calculate_price_with_tax(price)\n",
        "print(f\"消費税込みの価格は {total_price} 円です。\")"
      ]
    }
  ]
}