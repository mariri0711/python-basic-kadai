{
  "nbformat": 4,
  "nbformat_minor": 0,
  "metadata": {
    "colab": {
      "provenance": []
    },
    "kernelspec": {
      "name": "python3",
      "display_name": "Python 3"
    },
    "language_info": {
      "name": "python"
    }
  },
  "cells": [
    {
      "cell_type": "code",
      "execution_count": 3,
      "metadata": {
        "colab": {
          "base_uri": "https://localhost:8080/"
        },
        "id": "nwrSiOr6eygU",
        "outputId": "ffe4dcc6-fa32-4c74-f3d8-0719309c5446"
      },
      "outputs": [
        {
          "output_type": "stream",
          "name": "stdout",
          "text": [
            "侍太郎は大人です（25歳）\n",
            "侍小太郎は大人ではありません（10歳）\n",
            "侍花子は大人です（33歳）\n"
          ]
        }
      ],
      "source": [
        "class Human:\n",
        "    def __init__(self, name, age):\n",
        "        self.name = name\n",
        "        self.age = age\n",
        "\n",
        "    def set_name(self, name):\n",
        "        self.name = name\n",
        "\n",
        "    def set_age(self, age):\n",
        "        self.age = age\n",
        "\n",
        "    def check_adult(self):\n",
        "        if self.age >= 20:\n",
        "            print(f\"{self.name}は大人です（{self.age}歳）\")\n",
        "        else:\n",
        "            print(f\"{self.name}は大人ではありません（{self.age}歳）\")\n",
        "\n",
        "# 複数の Human インスタンスを生成し、リストに追加\n",
        "people = [\n",
        "    Human(\"侍太郎\", 25),\n",
        "    Human(\"侍小太郎\", 10),\n",
        "    Human(\"侍花子\", 33)\n",
        "]\n",
        "\n",
        "# リストの要素数分だけ check_adult メソッドを呼び出し\n",
        "for human in people:\n",
        "    human.check_adult()"
      ]
    }
  ]
}